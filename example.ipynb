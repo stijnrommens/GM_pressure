{
 "cells": [
  {
   "cell_type": "markdown",
   "id": "8308ce12",
   "metadata": {},
   "source": [
    "# Gibbs-Marangoni pressure\n",
    "How to use the Julia code in a Python environment."
   ]
  },
  {
   "cell_type": "code",
   "execution_count": null,
   "id": "f70ede03",
   "metadata": {},
   "outputs": [],
   "source": [
    "import juliacall\n",
    "from juliacall import Main as jl\n",
    "\n",
    "jl.include(\"your_path/code/main.jl\")"
   ]
  },
  {
   "cell_type": "markdown",
   "id": "6c645f68",
   "metadata": {},
   "source": [
    "Specify the ions present. Each ion requires the following information in a list/array:\n",
    "1. **Concentration**\n",
    "2. **Valency**\n",
    "3. **Ionic hydrated radius**\n",
    "4. **Type** (optional); \"alpha\", \"beta\" or \"proton\". If None, \"alpha\" is assumed.\n",
    "\n",
    "For example, NaCl has the following input: <br>\n",
    "Na<sup>+</sup> = [0.1, +1.0, 2.50e-10, \"alpha\"] <br>\n",
    "Cl<sup>-</sup> = [0.1, -1.0, 2.00e-10, \"alpha\"] <br>\n",
    "**NaCl = [Na<sup>+</sup>, Cl<sup>-</sup>]**"
   ]
  },
  {
   "cell_type": "code",
   "execution_count": null,
   "id": "527d4610",
   "metadata": {},
   "outputs": [],
   "source": [
    "ah_Na, ah_Cl, ah_H, ah_ClO4 = 2.50e-10, 2.00e-10, 1.97e-10, 2.83e-10\n",
    "\n",
    "nacl   = [[0.1, +1.0, 2.50e-10], [0.1, -1.0, 2.00e-10]]\n",
    "pGM, ST = jl.main(nacl, print_flag=True)\n",
    "\n",
    "hclo4  = [[0.1, +1.0, 1.97e-10, \"proton\"], [0.1, -1.0, 2.83e-10, \"beta\"]]\n",
    "pGM, ST = jl.main(hclo4, print_flag=True)\n"
   ]
  },
  {
   "cell_type": "markdown",
   "id": "051674a2",
   "metadata": {},
   "source": [
    "Running the code results in the (1) Gibbs-Marangoni pressure and (2) surface tension."
   ]
  },
  {
   "cell_type": "code",
   "execution_count": null,
   "id": "6b08d7d3",
   "metadata": {},
   "outputs": [],
   "source": []
  }
 ],
 "metadata": {
  "kernelspec": {
   "display_name": "Python 3 (ipykernel)",
   "language": "python",
   "name": "python3"
  },
  "language_info": {
   "codemirror_mode": {
    "name": "ipython",
    "version": 3
   },
   "file_extension": ".py",
   "mimetype": "text/x-python",
   "name": "python",
   "nbconvert_exporter": "python",
   "pygments_lexer": "ipython3",
   "version": "3.9.12"
  }
 },
 "nbformat": 4,
 "nbformat_minor": 5
}
